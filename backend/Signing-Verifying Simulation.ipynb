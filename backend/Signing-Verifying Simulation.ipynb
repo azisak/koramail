{
 "cells": [
  {
   "cell_type": "markdown",
   "metadata": {},
   "source": [
    "# Signing and Verifying Simulation"
   ]
  },
  {
   "cell_type": "markdown",
   "metadata": {},
   "source": [
    "# Simulation"
   ]
  },
  {
   "cell_type": "code",
   "execution_count": 1,
   "metadata": {},
   "outputs": [
    {
     "name": "stdout",
     "output_type": "stream",
     "text": [
      "Basis: 0, 4124 is_on_curve: True\n",
      "created  keys/sender.pri\n",
      "created  keys/sender.pub\n",
      "\tSignature 12949,15624,68,9778,12949,15624,7072,14863,12949,15624,11695,12539,12949,15624,13270,7299,12949,15624,4786,2798,12949,15624,12686,1122,12949,15624,14778,10521,12949,15624,5917,4692,12949,15624,13270,7299,12949,15624,11695,12539,12949,15624,1097,1774,12949,15624,14491,6117,12949,15624,14778,10521,12949,15624,13234,13965,12949,15624,1097,1774,12949,15624,2202,4572,12949,15624,1097,1774,12949,15624,1097,1774,12949,15624,2202,4572,12949,15624,5917,4692,12949,15624,2202,4572,12949,15624,5917,4692,12949,15624,5917,4692,12949,15624,2202,4572,12949,15624,11695,12539,12949,15624,13270,7299,12949,15624,11231,15122,12949,15624,2202,4572,12949,15624,4947,3827,12949,15624,14778,10521,12949,15624,13234,13965,12949,15624,11231,15122,12949,15624,68,9778,12949,15624,13234,13965,12949,15624,12994,5315,12949,15624,13270,7299,12949,15624,7072,14863,12949,15624,4786,2798,12949,15624,14778,10521,12949,15624,12994,5315\n",
      "\n",
      "Verifying message ...\n",
      "\tVerified:  True\n"
     ]
    }
   ],
   "source": [
    "import sys\n",
    "import os\n",
    "sys.path.append(os.path.join(os.getcwd(),\"ecc\"))\n",
    "from digital_signature import *\n",
    "from utils import *\n",
    "from ecc.curve import ECC\n",
    "from ecc.point import Point\n",
    "from ecc.koblitz import *\n",
    "import json\n",
    "\n",
    "# Reading config\n",
    "with open('config.json') as config_file:\n",
    "    config = json.load(config_file)\n",
    "    config_file.close()\n",
    "\n",
    "# ECC Elgamal initialization\n",
    "ecc = ECC(\n",
    "    config['ecc']['a'], \n",
    "    config['ecc']['b'],\n",
    "    config['ecc']['p'],\n",
    "    config['ecc']['k'],\n",
    "    config['ecc']['n']\n",
    ")\n",
    "\n",
    "# Generate base point\n",
    "point_basis =  ecc.create_basis_point()\n",
    "print(\"Basis:\",point_basis,\"is_on_curve:\",ecc.is_on_curve(point_basis))\n",
    "\n",
    "# Generating public and private keys\n",
    "generate_keys(\"sender\",ecc, point_basis, config['ecc']['n'])\n",
    "\n",
    "# Reading public and private keys\n",
    "private_key = read_private_key(\"keys/sender.pri\")\n",
    "public_key = read_public_key(\"keys/sender.pub\")\n",
    "\n",
    "# Message\n",
    "message = \"hari ini hujan\" \n",
    "# Signing Message\n",
    "signature = sign_message(message, ecc, point_basis, public_key)\n",
    "print(\"\\tSignature\",signature)\n",
    "\n",
    "# Verifying message\n",
    "# message += 'aaa' # Test to add some noise, verified must be False\n",
    "print(\"\\nVerifying message ...\")\n",
    "print(\"\\tVerified: \",verified(message, signature, ecc,private_key))"
   ]
  }
 ],
 "metadata": {
  "kernelspec": {
   "display_name": "Python 3",
   "language": "python",
   "name": "python3"
  },
  "language_info": {
   "codemirror_mode": {
    "name": "ipython",
    "version": 3
   },
   "file_extension": ".py",
   "mimetype": "text/x-python",
   "name": "python",
   "nbconvert_exporter": "python",
   "pygments_lexer": "ipython3",
   "version": "3.6.5"
  }
 },
 "nbformat": 4,
 "nbformat_minor": 2
}
