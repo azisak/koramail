{
 "cells": [
  {
   "cell_type": "markdown",
   "metadata": {},
   "source": [
    "# Signing and Verifying Simulation"
   ]
  },
  {
   "cell_type": "markdown",
   "metadata": {},
   "source": [
    "# Simulation"
   ]
  },
  {
   "cell_type": "code",
   "execution_count": 1,
   "metadata": {},
   "outputs": [
    {
     "name": "stdout",
     "output_type": "stream",
     "text": [
      "Basis: 0, 4124 is_on_curve: True\n",
      "created  keys/sender.pri\n",
      "created  keys/sender.pub\n",
      "b'hari ini hujan'\n",
      "\n",
      "\tSignature 12949,15624,8504,10917,12949,15624,9564,7216,12949,15624,9280,8379,12949,15624,1966,7022,12949,15624,8504,10917,12949,15624,6807,4940,12949,15624,6807,4940,12949,15624,13173,5431,12949,15624,12645,6433,12949,15624,4452,924,12949,15624,6807,4940,12949,15624,7025,3226,12949,15624,9280,8379,12949,15624,7025,3226,12949,15624,672,3824,12949,15624,4019,6268,12949,15624,13173,5431,12949,15624,4019,6268,12949,15624,9564,7216,12949,15624,1966,7022,12949,15624,9564,7216,12949,15624,6807,4940,12949,15624,3438,3941,12949,15624,9280,8379,12949,15624,6807,4940,12949,15624,4452,924,12949,15624,8504,10917,12949,15624,1966,7022,12949,15624,7025,3226,12949,15624,9280,8379,12949,15624,4019,6268,12949,15624,11554,5099,12949,15624,12645,6433,12949,15624,8504,10917,12949,15624,4452,924,12949,15624,6807,4940,12949,15624,9630,2822,12949,15624,672,3824,12949,15624,6807,4940,12949,15624,12645,6433,12949,15624,9280,8379,12949,15624,7025,3226,12949,15624,3438,3941,12949,15624,9564,7216,12949,15624,11554,5099,12949,15624,11554,5099,12949,15624,4019,6268,12949,15624,3438,3941,12949,15624,6807,4940,12949,15624,11963,5540,12949,15624,4019,6268,12949,15624,9758,12988,12949,15624,7025,3226,12949,15624,8504,10917,12949,15624,672,3824,12949,15624,672,3824,12949,15624,4452,924,12949,15624,12645,6433,12949,15624,4452,924,12949,15624,11554,5099,12949,15624,11963,5540,12949,15624,3438,3941,12949,15624,11963,5540,12949,15624,7025,3226,12949,15624,11554,5099,12949,15624,11554,5099,12949,15624,672,3824,12949,15624,3438,3941,12949,15624,672,3824,12949,15624,11554,5099,12949,15624,6807,4940,12949,15624,11963,5540,12949,15624,7025,3226,12949,15624,11554,5099,12949,15624,11554,5099,12949,15624,12645,6433,12949,15624,11554,5099,12949,15624,3438,3941,12949,15624,672,3824,12949,15624,9758,12988,12949,15624,8504,10917,12949,15624,4452,924,12949,15624,8504,10917,12949,15624,3438,3941,12949,15624,12645,6433,12949,15624,8504,10917,12949,15624,9630,2822,12949,15624,3438,3941,12949,15624,8504,10917,12949,15624,7025,3226,12949,15624,1966,7022,12949,15624,9564,7216,12949,15624,11963,5540,12949,15624,11963,5540,12949,15624,9280,8379,12949,15624,4452,924,12949,15624,9280,8379,12949,15624,6807,4940,12949,15624,4452,924,12949,15624,9758,12988,12949,15624,12645,6433,12949,15624,9280,8379,12949,15624,9630,2822,12949,15624,4452,924,12949,15624,9630,2822,12949,15624,1966,7022,12949,15624,11963,5540,12949,15624,13173,5431,12949,15624,12645,6433,12949,15624,9564,7216,12949,15624,4019,6268,12949,15624,8504,10917,12949,15624,12645,6433,12949,15624,11554,5099,12949,15624,13173,5431,12949,15624,672,3824,12949,15624,672,3824,12949,15624,9280,8379,12949,15624,9280,8379,12949,15624,9564,7216,12949,15624,8504,10917,12949,15624,9758,12988,12949,15624,13173,5431,12949,15624,6807,4940,12949,15624,12645,6433,12949,15624,13173,5431,12949,15624,13173,5431,12949,15624,12645,6433\n",
      "\n",
      "Verifying message ...\n",
      "\tVerified:  False\n"
     ]
    }
   ],
   "source": [
    "import sys\n",
    "import os\n",
    "sys.path.append(os.path.join(os.getcwd(),\"ecc\"))\n",
    "from digital_signature import *\n",
    "from utils import *\n",
    "from ecc.curve import ECC\n",
    "from ecc.point import Point\n",
    "from ecc.koblitz import *\n",
    "import json\n",
    "\n",
    "# Reading config\n",
    "with open('config.json') as config_file:\n",
    "    config = json.load(config_file)\n",
    "    config_file.close()\n",
    "\n",
    "# ECC Elgamal initialization\n",
    "ecc = ECC(\n",
    "    config['ecc']['a'], \n",
    "    config['ecc']['b'],\n",
    "    config['ecc']['p'],\n",
    "    config['ecc']['k'],\n",
    "    config['ecc']['n']\n",
    ")\n",
    "\n",
    "# Generate base point\n",
    "point_basis =  ecc.create_basis_point()\n",
    "print(\"Basis:\",point_basis,\"is_on_curve:\",ecc.is_on_curve(point_basis))\n",
    "\n",
    "# Generating public and private keys\n",
    "generate_keys(\"sender\",ecc, point_basis, config['ecc']['n'])\n",
    "\n",
    "# Reading public and private keys\n",
    "private_key = read_private_key(\"keys/sender.pri\")\n",
    "public_key = read_public_key(\"keys/sender.pub\")\n",
    "\n",
    "# Message\n",
    "message = \"hari ini hujan\" \n",
    "# Signing Message\n",
    "signature = sign_message(message, ecc, point_basis, public_key)\n",
    "print(\"\\tSignature\",signature)\n",
    "\n",
    "# Verifying message\n",
    "message += 'aaa' # Test to add some noise, verified must be False\n",
    "print(\"\\nVerifying message ...\")\n",
    "print(\"\\tVerified: \",verified(message, signature, ecc,private_key))"
   ]
  },
  {
   "cell_type": "code",
   "execution_count": 2,
   "metadata": {},
   "outputs": [
    {
     "data": {
      "text/plain": [
       "str"
      ]
     },
     "execution_count": 2,
     "metadata": {},
     "output_type": "execute_result"
    }
   ],
   "source": [
    "type(\"asd\")"
   ]
  },
  {
   "cell_type": "code",
   "execution_count": 3,
   "metadata": {},
   "outputs": [
    {
     "data": {
      "text/plain": [
       "str"
      ]
     },
     "execution_count": 3,
     "metadata": {},
     "output_type": "execute_result"
    }
   ],
   "source": [
    "type(signature)"
   ]
  },
  {
   "cell_type": "code",
   "execution_count": null,
   "metadata": {},
   "outputs": [],
   "source": []
  }
 ],
 "metadata": {
  "kernelspec": {
   "display_name": "Python 3",
   "language": "python",
   "name": "python3"
  },
  "language_info": {
   "codemirror_mode": {
    "name": "ipython",
    "version": 3
   },
   "file_extension": ".py",
   "mimetype": "text/x-python",
   "name": "python",
   "nbconvert_exporter": "python",
   "pygments_lexer": "ipython3",
   "version": "3.6.5"
  }
 },
 "nbformat": 4,
 "nbformat_minor": 2
}
