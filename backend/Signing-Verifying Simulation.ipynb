{
 "cells": [
  {
   "cell_type": "markdown",
   "metadata": {},
   "source": [
    "# Signing and Verifying Simulation"
   ]
  },
  {
   "cell_type": "markdown",
   "metadata": {},
   "source": [
    "## Signing"
   ]
  },
  {
   "cell_type": "code",
   "execution_count": 1,
   "metadata": {},
   "outputs": [],
   "source": [
    "import hashlib\n",
    "def sign_message(message, ecc, point_basis, public_b, k, n):\n",
    "    \"\"\"Signing message\n",
    "    Arguments:\n",
    "        message {String}: message to be signed\n",
    "    Returns: (message, signature)\n",
    "    \"\"\"\n",
    "    digest = hashlib.sha1(message.encode('utf-8')).hexdigest()\n",
    "    digest = digest.encode('utf-8')\n",
    "    digest = ecc.encrypt_message(digest, point_basis, public_b, k, n)\n",
    "    return message, digest"
   ]
  },
  {
   "cell_type": "markdown",
   "metadata": {},
   "source": [
    "## Verifying"
   ]
  },
  {
   "cell_type": "code",
   "execution_count": 2,
   "metadata": {},
   "outputs": [],
   "source": [
    "def verified(message, signature, ecc, k, private_b):\n",
    "    \"\"\"Verifying message\n",
    "    Arguments:\n",
    "        message {String}: message to be verified\n",
    "        signature {String}: signature of signed message\n",
    "    Returns: True - if message verified, else False\n",
    "    \"\"\"\n",
    "    digest = hashlib.sha1(message.encode('utf-8')).hexdigest()\n",
    "    signature = ecc.decrypt_message(signature, k, private_b)\n",
    "    signature = signature.decode('utf-8')\n",
    "    return signature == digest"
   ]
  },
  {
   "cell_type": "markdown",
   "metadata": {},
   "source": [
    "## Other"
   ]
  },
  {
   "cell_type": "code",
   "execution_count": 3,
   "metadata": {},
   "outputs": [],
   "source": [
    "import sys\n",
    "import os\n",
    "sys.path.append(os.path.join(os.getcwd(),\"ecc\"))"
   ]
  },
  {
   "cell_type": "code",
   "execution_count": 4,
   "metadata": {},
   "outputs": [
    {
     "data": {
      "text/plain": [
       "['',\n",
       " '/home/azisak/anaconda3/lib/python36.zip',\n",
       " '/home/azisak/anaconda3/lib/python3.6',\n",
       " '/home/azisak/anaconda3/lib/python3.6/lib-dynload',\n",
       " '/home/azisak/.local/lib/python3.6/site-packages',\n",
       " '/home/azisak/anaconda3/lib/python3.6/site-packages',\n",
       " '/home/azisak/anaconda3/lib/python3.6/site-packages/IPython/extensions',\n",
       " '/home/azisak/.ipython',\n",
       " '/media/azisak/WORK/Kriptografi/tubes-2-koramail/backend/ecc']"
      ]
     },
     "execution_count": 4,
     "metadata": {},
     "output_type": "execute_result"
    }
   ],
   "source": [
    "sys.path"
   ]
  },
  {
   "cell_type": "markdown",
   "metadata": {},
   "source": [
    "# Simulation"
   ]
  },
  {
   "cell_type": "code",
   "execution_count": 11,
   "metadata": {},
   "outputs": [
    {
     "name": "stdout",
     "output_type": "stream",
     "text": [
      "[ Initializing ECC El Gamal ]\n",
      "Basis: 0, 4124 is_on_curve: True\n",
      "created  keys/sender.pri\n",
      "created  keys/sender.pub\n",
      "created  keys/receiver.pri\n",
      "created  keys/receiver.pub\n"
     ]
    }
   ],
   "source": [
    "### INITIALIZATION\n",
    "from utils import *\n",
    "from ecc.curve import ECC\n",
    "from ecc.point import Point\n",
    "from ecc.koblitz import *\n",
    "\n",
    "# CONFIG\n",
    "k = 10\n",
    "p = 15733\n",
    "a = 1\n",
    "b = 3\n",
    "n = 727\n",
    "\n",
    "# ECC Elgamal\n",
    "print(\"[ Initializing ECC El Gamal ]\")\n",
    "ecc = ECC(a, b, p)\n",
    "point_basis =  ecc.create_basis_point()\n",
    "print(\"Basis:\",point_basis,\"is_on_curve:\",ecc.is_on_curve(point_basis))\n",
    "\n",
    "# Generating public and private keys\n",
    "# Sender's\n",
    "generate_keys(\"sender\",ecc, point_basis, n)\n",
    "# Receiver's\n",
    "generate_keys(\"receiver\",ecc, point_basis, n)\n",
    "\n",
    "# Reading public and private keys\n",
    "# Sender's\n",
    "private_a = read_private_key(\"keys/sender.pri\")\n",
    "public_a = read_public_key(\"keys/sender.pub\")\n",
    "# Receiver's\n",
    "private_b = read_private_key(\"keys/receiver.pri\")\n",
    "public_b = read_public_key(\"keys/receiver.pub\")\n",
    "\n",
    "# Message\n",
    "message = \"hari ini hujan\""
   ]
  },
  {
   "cell_type": "code",
   "execution_count": 12,
   "metadata": {},
   "outputs": [
    {
     "name": "stdout",
     "output_type": "stream",
     "text": [
      "12949,15624,15257,10309,12949,15624,10230,4520,12949,15624,9361,14148,12949,15624,2380,7006,12949,15624,15320,645,12949,15624,2380,7006,12949,15624,12758,4131,12949,15624,2380,7006,12949,15624,15320,645,12949,15624,15257,10309,12949,15624,1869,978,12949,15624,7360,6534,12949,15624,10230,4520,12949,15624,12758,4131\n",
      "\n",
      "b'hari ini hujan'\n"
     ]
    }
   ],
   "source": [
    "encrypted_messages = ecc.encrypt_message(messages, point_basis, public_b, k, n)\n",
    "print(encrypted_messages)\n",
    "print()\n",
    "\n",
    "out_msg = ecc.decrypt_message(encrypted_messages, k, private_b)\n",
    "print(out_msg)"
   ]
  },
  {
   "cell_type": "code",
   "execution_count": 17,
   "metadata": {},
   "outputs": [
    {
     "name": "stdout",
     "output_type": "stream",
     "text": [
      "Signing message ...\n",
      "\tMessage hari ini hujan\n",
      "\tSignature 12949,15624,12990,10122,12949,15624,7882,9221,12949,15624,13399,7204,12949,15624,11712,13228,12949,15624,10230,4520,12949,15624,7978,7197,12949,15624,3700,3430,12949,15624,1986,11152,12949,15624,11712,13228,12949,15624,13399,7204,12949,15624,12540,5289,12949,15624,7514,11219,12949,15624,3700,3430,12949,15624,1678,9678,12949,15624,12540,5289,12949,15624,24,172,12949,15624,12540,5289,12949,15624,12540,5289,12949,15624,24,172,12949,15624,1986,11152,12949,15624,24,172,12949,15624,1986,11152,12949,15624,1986,11152,12949,15624,24,172,12949,15624,13399,7204,12949,15624,11712,13228,12949,15624,3395,14463,12949,15624,24,172,12949,15624,6718,2306,12949,15624,3700,3430,12949,15624,1678,9678,12949,15624,3395,14463,12949,15624,12990,10122,12949,15624,1678,9678,12949,15624,387,753,12949,15624,11712,13228,12949,15624,7882,9221,12949,15624,10230,4520,12949,15624,3700,3430,12949,15624,387,753\n",
      "\n",
      "Verifying message ...\n",
      "\tVerified:  True\n"
     ]
    }
   ],
   "source": [
    "print(\"Signing message ...\")\n",
    "m, s = sign_message(message, ecc, point_basis, public_b, k, n)\n",
    "print(\"\\tMessage\",m)\n",
    "print(\"\\tSignature\",s)\n",
    "# m += 'a'\n",
    "print(\"\\nVerifying message ...\")\n",
    "print(\"\\tVerified: \",verified(m,s, ecc, k, private_b))"
   ]
  },
  {
   "cell_type": "code",
   "execution_count": null,
   "metadata": {},
   "outputs": [],
   "source": []
  }
 ],
 "metadata": {
  "kernelspec": {
   "display_name": "Python 3",
   "language": "python",
   "name": "python3"
  },
  "language_info": {
   "codemirror_mode": {
    "name": "ipython",
    "version": 3
   },
   "file_extension": ".py",
   "mimetype": "text/x-python",
   "name": "python",
   "nbconvert_exporter": "python",
   "pygments_lexer": "ipython3",
   "version": "3.6.5"
  }
 },
 "nbformat": 4,
 "nbformat_minor": 2
}
